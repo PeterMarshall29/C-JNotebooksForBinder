{
 "cells": [
  {
   "cell_type": "code",
   "execution_count": 5,
   "id": "dd128880-0a2c-4105-a3b2-156be73b5670",
   "metadata": {},
   "outputs": [
    {
     "name": "stderr",
     "output_type": "stream",
     "text": [
      "-macosx_version_min has been renamed to -macos_version_min\n"
     ]
    },
    {
     "data": {
      "text/markdown": [
       "Hello World!"
      ]
     },
     "metadata": {},
     "output_type": "display_data"
    }
   ],
   "source": [
    "#include <iostream>\n",
    "int main() {\n",
    "    std::cout << \"Hello World!\";\n",
    "    return 0;\n",
    "}"
   ]
  },
  {
   "cell_type": "code",
   "execution_count": null,
   "id": "73e7a8cc-0eb2-471e-bfcd-87ff9392233c",
   "metadata": {},
   "outputs": [],
   "source": []
  },
  {
   "cell_type": "code",
   "execution_count": null,
   "id": "2e7128a4-5b14-4aa0-98be-00dd1a826be6",
   "metadata": {},
   "outputs": [],
   "source": []
  }
 ],
 "metadata": {
  "kernelspec": {
   "display_name": "C++ 23",
   "language": "c++",
   "name": "cpp23"
  },
  "language_info": {
   "file_extension": ".cpp",
   "mimetype": "text/markdown",
   "name": "C++",
   "version": "1.0.0a9"
  }
 },
 "nbformat": 4,
 "nbformat_minor": 5
}
